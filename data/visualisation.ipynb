{
 "cells": [
  {
   "cell_type": "code",
   "execution_count": 6,
   "metadata": {},
   "outputs": [
    {
     "name": "stdout",
     "output_type": "stream",
     "text": [
      "Processing data... voc2index\n",
      "Processing data... voc2index\n"
     ]
    }
   ],
   "source": [
    "from sklearn.model_selection import train_test_split\n",
    "import numpy as np\n",
    "\n",
    "X = []\n",
    "y = []\n",
    "with open(\"fra7.txt\", \"r\", encoding=\"utf8\") as file:\n",
    "    for ligne in file:\n",
    "        ligne = ligne.split(\"\\t\")\n",
    "        X.append(ligne[0])\n",
    "        y.append(int(ligne[1]))\n",
    "\n",
    "X_train, X_test, y_train, y_test = train_test_split(X, y, test_size=0.33)\n",
    "y_train = np.array(y_train)\n",
    "y_test = np.array(y_test)\n",
    "\n",
    "def ngram_char(sentence, n):\n",
    "    l = []\n",
    "    for i in range(len(sentence)-1):\n",
    "        l.append(sentence[i:i+n])\n",
    "    return l\n",
    "\n",
    "n = 1\n",
    "\n",
    "vocabulary = {\"<OOV>\": 0} #vocabulaire de caractères\n",
    "index = 1\n",
    "for i in range(len(X_train)):\n",
    "    #for word in X_train[i].split(\" \"):\n",
    "    word = ngram_char(X_train[i], n)\n",
    "    for c in word:\n",
    "        if c not in vocabulary:\n",
    "            vocabulary[c] = index\n",
    "            index += 1\n",
    "            \n",
    "def voc2index(X):\n",
    "    print(\"Processing data... voc2index\")\n",
    "    X_ = []\n",
    "    for i in range(len(X)):\n",
    "        temp = []\n",
    "        #for word in X[i].split(\" \"):\n",
    "        for word in ngram_char(X[i], n):\n",
    "            try:\n",
    "                ind = vocabulary[word]\n",
    "            except KeyError:\n",
    "                ind = vocabulary[\"<OOV>\"]\n",
    "            temp.append(ind)\n",
    "        X_.append(temp.copy())\n",
    "    return X_\n",
    "\n",
    "\n",
    "X_train_2 = voc2index(X_train) #from text to index\n",
    "X_test = voc2index(X_test)"
   ]
  },
  {
   "cell_type": "code",
   "execution_count": 11,
   "metadata": {},
   "outputs": [
    {
     "name": "stdout",
     "output_type": "stream",
     "text": [
      "BRUME AFFREUSE PAREILLE AUX FACES DU TOMBEAÙ\n",
      "[1, 2, 3, 4, 5, 6, 7, 8, 8, 2, 5, 3, 9, 5, 6, 10, 7, 2, 5, 11, 12, 12, 5, 6, 7, 3, 13, 6, 8, 7, 14, 5, 9, 6, 15, 3, 6, 16, 17, 4, 1, 5, 7]\n",
      "44\n",
      "43\n"
     ]
    }
   ],
   "source": [
    "print(X_train[0])\n",
    "print(X_train_2[0])\n",
    "print(len(X_train[0]))\n",
    "print(len(X_train_2[0]))\n",
    "\n",
    "temp = []\n",
    "for i in range(len(X_train)):\n",
    "    temp.append(len(X_train[i]))"
   ]
  },
  {
   "cell_type": "code",
   "execution_count": 4,
   "metadata": {},
   "outputs": [],
   "source": [
    "import pickle\n",
    "import matplotlib.pyplot as plt"
   ]
  },
  {
   "cell_type": "code",
   "execution_count": 12,
   "metadata": {},
   "outputs": [
    {
     "data": {
      "text/plain": [
       "[Text(0, 0.5, 'Frequency'), Text(0.5, 1.0, 'Frequency Histogram')]"
      ]
     },
     "execution_count": 12,
     "metadata": {},
     "output_type": "execute_result"
    },
    {
     "data": {
      "image/png": "[encoded data removed]",
      "text/plain": [
       "<Figure size 432x288 with 1 Axes>"
      ]
     },
     "metadata": {
      "needs_background": "light"
     },
     "output_type": "display_data"
    }
   ],
   "source": [
    "plt.hist(temp)\n",
    "plt.gca().set(title='Frequency Histogram', ylabel='Frequency')"
   ]
  },
  {
   "cell_type": "code",
   "execution_count": 3,
   "metadata": {},
   "outputs": [],
   "source": [
    "l = pickle.load(open(\"pickle/predictions.pck\", \"rb\"))"
   ]
  },
  {
   "cell_type": "code",
   "execution_count": 6,
   "metadata": {},
   "outputs": [
    {
     "data": {
      "text/plain": [
       "[Text(0, 0.5, 'Frequency'), Text(0.5, 1.0, 'Frequency Histogram')]"
      ]
     },
     "execution_count": 6,
     "metadata": {},
     "output_type": "execute_result"
    },
    {
     "data": {
      "image/png": "[encoded data removed]",
      "text/plain": [
       "<Figure size 432x288 with 1 Axes>"
      ]
     },
     "metadata": {
      "needs_background": "light"
     },
     "output_type": "display_data"
    }
   ],
   "source": [
    "plt.hist(l)\n",
    "plt.gca().set(title='Frequency Histogram', ylabel='Frequency')"
   ]
  },
  {
   "cell_type": "code",
   "execution_count": 3,
   "metadata": {},
   "outputs": [],
   "source": [
    "pairs = []\n",
    "with open(\"fra.txt\", \"r\", encoding=\"utf8\") as file:\n",
    "        for ligne in file:\n",
    "            ligne = ligne.lower()\n",
    "            ligne = ligne.split(\"\\t\")\n",
    "            pairs.append([ligne[0], ligne[1]])"
   ]
  },
  {
   "cell_type": "code",
   "execution_count": 33,
   "metadata": {},
   "outputs": [],
   "source": [
    "len1 = []\n",
    "len2 = []\n",
    "\n",
    "for i in range(len(pairs)):\n",
    "    temp1 = len(pairs[i][0].split(\" \"))\n",
    "    temp2 = len(pairs[i][1].split(\" \"))\n",
    "    if temp1 < 29 and temp2 < 29:\n",
    "        len1.append(temp1)\n",
    "        len2.append(temp2)\n",
    "    #if len2[-1] > 28:\n",
    "    #    print(pairs[i])"
   ]
  },
  {
   "cell_type": "code",
   "execution_count": 34,
   "metadata": {},
   "outputs": [],
   "source": [
    "import numpy as np\n",
    "import matplotlib.pyplot as plt"
   ]
  },
  {
   "cell_type": "code",
   "execution_count": 35,
   "metadata": {},
   "outputs": [
    {
     "data": {
      "text/plain": [
       "[Text(0, 0.5, 'Frequency'), Text(0.5, 1.0, 'Frequency Histogram')]"
      ]
     },
     "execution_count": 35,
     "metadata": {},
     "output_type": "execute_result"
    },
    {
     "data": {
      "image/png": "[encoded data removed]",
      "text/plain": [
       "<Figure size 432x288 with 1 Axes>"
      ]
     },
     "metadata": {
      "needs_background": "light"
     },
     "output_type": "display_data"
    }
   ],
   "source": [
    "plt.hist(len1, bins=len(set(len1)))\n",
    "plt.gca().set(title='Frequency Histogram', ylabel='Frequency')"
   ]
  },
  {
   "cell_type": "code",
   "execution_count": 36,
   "metadata": {},
   "outputs": [
    {
     "data": {
      "text/plain": [
       "[Text(0, 0.5, 'Frequency'), Text(0.5, 1.0, 'Frequency Histogram')]"
      ]
     },
     "execution_count": 36,
     "metadata": {},
     "output_type": "execute_result"
    },
    {
     "data": {
      "image/png": "[encoded data removed]",
      "text/plain": [
       "<Figure size 432x288 with 1 Axes>"
      ]
     },
     "metadata": {
      "needs_background": "light"
     },
     "output_type": "display_data"
    }
   ],
   "source": [
    "plt.hist(len2, bins=len(set(len1)))\n",
    "plt.gca().set(title='Frequency Histogram', ylabel='Frequency')"
   ]
  },
  {
   "cell_type": "code",
   "execution_count": 28,
   "metadata": {},
   "outputs": [
    {
     "name": "stdout",
     "output_type": "stream",
     "text": [
      "27\n",
      "174\n",
      "176\n",
      "185\n",
      "196\n",
      "214\n",
      "215\n",
      "220\n",
      "220\n",
      "229\n",
      "28\n",
      "215\n"
     ]
    }
   ],
   "source": []
  }
 ],
 "metadata": {
  "kernelspec": {
   "display_name": "Python 3",
   "language": "python",
   "name": "python3"
  },
  "language_info": {
   "codemirror_mode": {
    "name": "ipython",
    "version": 3
   },
   "file_extension": ".py",
   "mimetype": "text/x-python",
   "name": "python",
   "nbconvert_exporter": "python",
   "pygments_lexer": "ipython3",
   "version": "3.8.2"
  }
 },
 "nbformat": 4,
 "nbformat_minor": 4
}
