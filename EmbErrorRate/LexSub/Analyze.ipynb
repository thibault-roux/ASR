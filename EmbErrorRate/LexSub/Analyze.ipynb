{
 "cells": [
  {
   "cell_type": "code",
   "execution_count": 1,
   "metadata": {},
   "outputs": [
    {
     "name": "stderr",
     "output_type": "stream",
     "text": [
      "Some weights of the model checkpoint at flaubert/flaubert_base_cased were not used when initializing FlaubertModel: ['pred_layer.proj.bias', 'pred_layer.proj.weight']\n",
      "- This IS expected if you are initializing FlaubertModel from the checkpoint of a model trained on another task or with another architecture (e.g. initializing a BertForSequenceClassification model from a BertForPreTraining model).\n",
      "- This IS NOT expected if you are initializing FlaubertModel from the checkpoint of a model that you expect to be exactly identical (initializing a BertForSequenceClassification model from a BertForSequenceClassification model).\n"
     ]
    }
   ],
   "source": [
    "from transformers import FlaubertTokenizer, FlaubertModel\n",
    "import torch\n",
    "from scipy import spatial\n",
    "\n",
    "\"\"\"\n",
    "Il faut faire attention, la valeur de similarité est très élevé\n",
    "(exemple: 0.80 pour dog et cat) pour certains mots qui ne devraient pas\n",
    "\"\"\"\n",
    "\n",
    "tokenizer = FlaubertTokenizer.from_pretrained('flaubert/flaubert_base_cased')\n",
    "model = FlaubertModel.from_pretrained('flaubert/flaubert_base_cased')\n"
   ]
  },
  {
   "cell_type": "code",
   "execution_count": 3,
   "metadata": {},
   "outputs": [],
   "source": [
    "def similarite(v1, v2):\n",
    "    return 1 - spatial.distance.cosine(v1, v2)"
   ]
  },
  {
   "cell_type": "code",
   "execution_count": 130,
   "metadata": {},
   "outputs": [],
   "source": [
    "def sim(sent1, sent2):\n",
    "    inputs = tokenizer(sent1, return_tensors=\"pt\")\n",
    "    outputs = model(**inputs)\n",
    "\n",
    "    inputs2 = tokenizer(sent2, return_tensors=\"pt\")\n",
    "    outputs2 = model(**inputs2)\n",
    "\n",
    "    last_hidden_states = outputs.last_hidden_state\n",
    "    last_hidden_states2 = outputs2.last_hidden_state\n",
    "    \"\"\"\n",
    "    if last_hidden_states.detach().numpy().shape[1] != len(sent1.split(\" \")) + 2:\n",
    "        print(\"Erreur\")\n",
    "        print(len(sent1.split(\" \")))\n",
    "        print(len(sent2.split(\" \")))\n",
    "        print(last_hidden_states.detach().numpy().shape[1])\n",
    "    \"\"\"\n",
    "    \n",
    "    \"\"\"\n",
    "    if last_hidden_states.detach().numpy().shape != last_hidden_states2.detach().numpy().shape:\n",
    "        print(\"ERROR: les sorties n'ont pas la même taille !\")\n",
    "        print(sent1)\n",
    "        print(sent2)\n",
    "    \"\"\"\n",
    "    \n",
    "    scores = []\n",
    "    for i in range(last_hidden_states.detach().numpy().shape[1]):\n",
    "        scores.append(similarite(last_hidden_states.detach().numpy()[0][i], last_hidden_states2.detach().numpy()[0][i]))\n",
    "    return scores"
   ]
  },
  {
   "cell_type": "code",
   "execution_count": 5,
   "metadata": {},
   "outputs": [
    {
     "name": "stderr",
     "output_type": "stream",
     "text": [
      "Some weights of the model checkpoint at flaubert/flaubert_base_cased were not used when initializing FlaubertModel: ['pred_layer.proj.bias', 'pred_layer.proj.weight']\n",
      "- This IS expected if you are initializing FlaubertModel from the checkpoint of a model trained on another task or with another architecture (e.g. initializing a BertForSequenceClassification model from a BertForPreTraining model).\n",
      "- This IS NOT expected if you are initializing FlaubertModel from the checkpoint of a model that you expect to be exactly identical (initializing a BertForSequenceClassification model from a BertForSequenceClassification model).\n"
     ]
    }
   ],
   "source": [
    "tokenizer = FlaubertTokenizer.from_pretrained('flaubert/flaubert_base_cased')\n",
    "model = FlaubertModel.from_pretrained('flaubert/flaubert_base_cased')\n",
    "\n",
    "inputs = tokenizer(\"Bonjour , mon chien est mignon\", return_tensors=\"pt\")\n",
    "outputs = model(**inputs)\n",
    "\n",
    "inputs2 = tokenizer(\"Bonjour , mon chat est mignon\", return_tensors=\"pt\")\n",
    "outputs2 = model(**inputs2)\n",
    "\n",
    "last_hidden_states = outputs.last_hidden_state\n",
    "last_hidden_states2 = outputs2.last_hidden_state"
   ]
  },
  {
   "cell_type": "code",
   "execution_count": 40,
   "metadata": {},
   "outputs": [
    {
     "data": {
      "text/plain": [
       "[0.8354153037071228,\n",
       " 0.8688662052154541,\n",
       " 0.905008852481842,\n",
       " 0.9067577123641968,\n",
       " 0.916238009929657,\n",
       " 0.8888639211654663,\n",
       " 0.8742471933364868,\n",
       " 0.6570376753807068,\n",
       " 0.4381970167160034,\n",
       " 0.3882996439933777,\n",
       " 0.38372427225112915]"
      ]
     },
     "execution_count": 40,
     "metadata": {},
     "output_type": "execute_result"
    }
   ],
   "source": [
    "sim(\"salut je suis venu te dire que je pars\", \"salut je suis venu te dire que je fuis\")"
   ]
  },
  {
   "cell_type": "code",
   "execution_count": 138,
   "metadata": {},
   "outputs": [],
   "source": [
    "ligne0 = \"\"\"\" La gestion moderne , qui utilise massivement le levier du militant , c' est-à-dire au fond qui mobilise l' art de l' \"\"\"\n",
    "ligne1 = \"avocat\"\n",
    "ligne2 = \"\"\" plaidant une cause de justice , table sur le triomphe de la vérité convaincante \" p 77 .\"\"\"\n",
    "\n",
    "def get_index(ligne0, ligne1, ligne2):\n",
    "    sent1 = ligne0 + ligne1 + ligne2\n",
    "    val = len(ligne0.split(\" \"))\n",
    "\n",
    "    dict = {}\n",
    "    size = 0\n",
    "    for index, token in enumerate(tokenizer.tokenize(sent1)):\n",
    "        dict[index] = token\n",
    "        size += 1\n",
    "    \n",
    "    for i in range(-1, size - len(sent1.split(\" \"))+1): #ça pourrait ne pas marcher si un mot \"proche\" du mot commence par les mêmes lettres\n",
    "        if dict[val + i][:len(ligne1)] == ligne1: #ça pourrait ne pas marcher si le mot cible est coupé en deux\n",
    "            return val + i\n",
    "    print(\"Il y a une erreur. Le mot '\" + ligne1 + \"' n'a pas été trouvé.\")\n",
    "    print(dict)\n",
    "    return None"
   ]
  },
  {
   "cell_type": "code",
   "execution_count": 139,
   "metadata": {},
   "outputs": [
    {
     "name": "stdout",
     "output_type": "stream",
     "text": [
      "0\n",
      "1\n",
      "2\n",
      "3\n",
      "4\n",
      "5\n",
      "6\n",
      "7\n",
      "8\n",
      "9\n",
      "10\n",
      "11\n",
      "12\n",
      "13\n",
      "14\n",
      "15\n",
      "16\n",
      "17\n",
      "18\n",
      "19\n",
      "20\n",
      "21\n",
      "22\n",
      "23\n",
      "24\n",
      "25\n",
      "26\n",
      "27\n",
      "28\n",
      "29\n",
      "30\n",
      "31\n",
      "32\n",
      "33\n",
      "34\n",
      "35\n",
      "36\n",
      "37\n",
      "38\n",
      "39\n",
      "40\n",
      "41\n",
      "42\n",
      "43\n",
      "44\n",
      "45\n",
      "46\n",
      "47\n",
      "48\n",
      "49\n",
      "50\n",
      "51\n",
      "52\n",
      "53\n",
      "54\n",
      "55\n",
      "56\n",
      "57\n",
      "58\n",
      "59\n",
      "60\n",
      "61\n",
      "62\n",
      "63\n",
      "64\n",
      "65\n",
      "66\n",
      "67\n",
      "68\n",
      "69\n",
      "70\n",
      "71\n",
      "72\n",
      "73\n",
      "74\n",
      "75\n",
      "76\n",
      "77\n",
      "78\n",
      "79\n",
      "80\n",
      "81\n",
      "82\n",
      "83\n",
      "84\n",
      "85\n",
      "86\n",
      "87\n",
      "88\n",
      "89\n",
      "90\n",
      "91\n",
      "92\n",
      "93\n",
      "94\n",
      "95\n",
      "96\n",
      "97\n",
      "98\n",
      "99\n"
     ]
    }
   ],
   "source": [
    "nbr = 0\n",
    "sims = []\n",
    "sims_ident = []\n",
    "with open(\"lexsub.txt\", \"r\", encoding=\"utf8\") as file:\n",
    "    for ligne in file:\n",
    "        print(nbr)\n",
    "        ligne = ligne[:-1].split(\"\\t\")\n",
    "        synonyms = []\n",
    "        for m in ligne[3].split(\";\"):\n",
    "            if len(m.split(\" \")) == 1:\n",
    "                synonyms.append(m)\n",
    "                \n",
    "        sent1 = ligne[0] + ligne[1] + ligne[2]\n",
    "        #val = len(ligne[0].split(\" \")) #Il faut trouver la valeur de val en utilisant le tokenizer\n",
    "        val = get_index(ligne[0], ligne[1], ligne[2]) #un des problème est que le mot de l'autre phrase peut être coupé en deux\n",
    "        if val != None:\n",
    "            for m in synonyms:\n",
    "                sent2 = ligne[0] + m + ligne[2]     #conséquence: 1) embedding d'un demi mot, 2) taille de phrase différente\n",
    "                scores = sim(sent1, sent2)\n",
    "                sims.append(scores[val])\n",
    "                for i in range(len(scores)):\n",
    "                    if i != val:\n",
    "                        sims_ident.append(scores[i])\n",
    "        nbr += 1\n",
    "        \n",
    "        \n",
    "#Il faut que je vérifie mon code s'il est bon avant de le relancer"
   ]
  },
  {
   "cell_type": "code",
   "execution_count": 141,
   "metadata": {},
   "outputs": [],
   "source": [
    "import matplotlib.pyplot as plt"
   ]
  },
  {
   "cell_type": "code",
   "execution_count": 147,
   "metadata": {},
   "outputs": [
    {
     "data": {
      "text/plain": [
       "(array([ 2.,  2.,  4.,  6.,  9.,  9., 16., 23., 32., 34., 28., 29., 38.,\n",
       "        26., 18.]),\n",
       " array([0.55252397, 0.58177577, 0.61102757, 0.64027938, 0.66953118,\n",
       "        0.69878298, 0.72803478, 0.75728658, 0.78653839, 0.81579019,\n",
       "        0.84504199, 0.87429379, 0.90354559, 0.9327974 , 0.9620492 ,\n",
       "        0.991301  ]),\n",
       " <a list of 15 Patch objects>)"
      ]
     },
     "execution_count": 147,
     "metadata": {},
     "output_type": "execute_result"
    },
    {
     "data": {
      "image/png": "[encoded data removed]",
      "text/plain": [
       "<Figure size 432x288 with 1 Axes>"
      ]
     },
     "metadata": {
      "needs_background": "light"
     },
     "output_type": "display_data"
    }
   ],
   "source": [
    "plt.hist(sims, bins=15)"
   ]
  },
  {
   "cell_type": "code",
   "execution_count": 148,
   "metadata": {},
   "outputs": [
    {
     "data": {
      "text/plain": [
       "(array([6.0000e+00, 2.1000e+01, 5.2000e+01, 9.1000e+01, 9.3000e+01,\n",
       "        1.1300e+02, 1.2700e+02, 1.3100e+02, 1.0500e+02, 7.3000e+01,\n",
       "        8.3000e+01, 9.3000e+01, 1.3200e+02, 3.0300e+02, 1.0087e+04]),\n",
       " array([0.00563038, 0.07192079, 0.13821119, 0.2045016 , 0.270792  ,\n",
       "        0.33708241, 0.40337282, 0.46966322, 0.53595363, 0.60224403,\n",
       "        0.66853444, 0.73482485, 0.80111525, 0.86740566, 0.93369606,\n",
       "        0.99998647]),\n",
       " <a list of 15 Patch objects>)"
      ]
     },
     "execution_count": 148,
     "metadata": {},
     "output_type": "execute_result"
    },
    {
     "data": {
      "image/png": "[encoded data removed]",
      "text/plain": [
       "<Figure size 432x288 with 1 Axes>"
      ]
     },
     "metadata": {
      "needs_background": "light"
     },
     "output_type": "display_data"
    }
   ],
   "source": [
    "plt.hist(sims_ident, bins=15)"
   ]
  }
 ],
 "metadata": {
  "kernelspec": {
   "display_name": "Python 3",
   "language": "python",
   "name": "python3"
  },
  "language_info": {
   "codemirror_mode": {
    "name": "ipython",
    "version": 3
   },
   "file_extension": ".py",
   "mimetype": "text/x-python",
   "name": "python",
   "nbconvert_exporter": "python",
   "pygments_lexer": "ipython3",
   "version": "3.8.2"
  }
 },
 "nbformat": 4,
 "nbformat_minor": 4
}
